{
 "cells": [
  {
   "cell_type": "code",
   "execution_count": 4,
   "id": "561194e0",
   "metadata": {},
   "outputs": [
    {
     "data": {
      "text/html": [
       "<pre style=\"white-space:pre;overflow-x:auto;line-height:normal;font-family:Menlo,'DejaVu Sans Mono',consolas,'Courier New',monospace\"><span style=\"color: #000080; text-decoration-color: #000080; font-weight: bold\">Sample docs path:</span> <span style=\"color: #800080; text-decoration-color: #800080\">/Users/amitamit/Documents/Code/deep_agent/</span><span style=\"color: #ff00ff; text-decoration-color: #ff00ff\">files</span>\n",
       "</pre>\n"
      ],
      "text/plain": [
       "\u001b[1;34mSample docs path:\u001b[0m \u001b[35m/Users/amitamit/Documents/Code/deep_agent/\u001b[0m\u001b[95mfiles\u001b[0m\n"
      ]
     },
     "metadata": {},
     "output_type": "display_data"
    },
    {
     "data": {
      "text/html": [
       "<pre style=\"white-space:pre;overflow-x:auto;line-height:normal;font-family:Menlo,'DejaVu Sans Mono',consolas,'Courier New',monospace\"><span style=\"color: #008000; text-decoration-color: #008000\">✓ Directory exists with files:</span> <span style=\"font-weight: bold\">[</span><span style=\"color: #008000; text-decoration-color: #008000\">'nvidia_10q.txt'</span><span style=\"font-weight: bold\">]</span>\n",
       "</pre>\n"
      ],
      "text/plain": [
       "\u001b[32m✓ Directory exists with files:\u001b[0m \u001b[1m[\u001b[0m\u001b[32m'nvidia_10q.txt'\u001b[0m\u001b[1m]\u001b[0m\n"
      ]
     },
     "metadata": {},
     "output_type": "display_data"
    },
    {
     "data": {
      "text/html": [
       "<pre style=\"white-space:pre;overflow-x:auto;line-height:normal;font-family:Menlo,'DejaVu Sans Mono',consolas,'Courier New',monospace\">╭────────────────────────╮\n",
       "│ <span style=\"color: #808000; text-decoration-color: #808000; font-weight: bold\">Creating MCP client...</span> │\n",
       "╰────────────────────────╯\n",
       "</pre>\n"
      ],
      "text/plain": [
       "╭────────────────────────╮\n",
       "│ \u001b[1;33mCreating MCP client...\u001b[0m │\n",
       "╰────────────────────────╯\n"
      ]
     },
     "metadata": {},
     "output_type": "display_data"
    },
    {
     "data": {
      "text/html": [
       "<pre style=\"white-space:pre;overflow-x:auto;line-height:normal;font-family:Menlo,'DejaVu Sans Mono',consolas,'Courier New',monospace\"><span style=\"color: #008000; text-decoration-color: #008000\">✓ MCP client created successfully!</span>\n",
       "</pre>\n"
      ],
      "text/plain": [
       "\u001b[32m✓ MCP client created successfully!\u001b[0m\n"
      ]
     },
     "metadata": {},
     "output_type": "display_data"
    },
    {
     "data": {
      "text/html": [
       "<pre style=\"white-space:pre;overflow-x:auto;line-height:normal;font-family:Menlo,'DejaVu Sans Mono',consolas,'Courier New',monospace\">╭──────────────────╮\n",
       "│ <span style=\"color: #808000; text-decoration-color: #808000; font-weight: bold\">Getting tools...</span> │\n",
       "╰──────────────────╯\n",
       "</pre>\n"
      ],
      "text/plain": [
       "╭──────────────────╮\n",
       "│ \u001b[1;33mGetting tools...\u001b[0m │\n",
       "╰──────────────────╯\n"
      ]
     },
     "metadata": {},
     "output_type": "display_data"
    },
    {
     "data": {
      "text/html": [
       "<pre style=\"white-space:pre;overflow-x:auto;line-height:normal;font-family:Menlo,'DejaVu Sans Mono',consolas,'Courier New',monospace\"><span style=\"font-style: italic\">                                              Available MCP Tools                                               </span>\n",
       "┏━━━━━━━━━━━━━━━━━━━━━━━━━━━┳━━━━━━━━━━━━━━━━━━━━━━━━━━━━━━━━━━━━━━━━━━━━━━━━━━━━━━━━━━━━━━━━━━━━━━━━━━━━━━━━━━┓\n",
       "┃<span style=\"color: #800080; text-decoration-color: #800080; font-weight: bold\"> Tool Name                 </span>┃<span style=\"color: #800080; text-decoration-color: #800080; font-weight: bold\"> Description                                                                      </span>┃\n",
       "┡━━━━━━━━━━━━━━━━━━━━━━━━━━━╇━━━━━━━━━━━━━━━━━━━━━━━━━━━━━━━━━━━━━━━━━━━━━━━━━━━━━━━━━━━━━━━━━━━━━━━━━━━━━━━━━━┩\n",
       "│<span style=\"color: #008080; text-decoration-color: #008080\"> read_file                 </span>│<span style=\"color: #c0c0c0; text-decoration-color: #c0c0c0\"> Read the complete contents of a file as text. DEPRECATED: Use read_text_file ... </span>│\n",
       "│<span style=\"color: #008080; text-decoration-color: #008080\"> read_text_file            </span>│<span style=\"color: #c0c0c0; text-decoration-color: #c0c0c0\"> Read the complete contents of a file from the file system as text. Handles va... </span>│\n",
       "│<span style=\"color: #008080; text-decoration-color: #008080\"> read_media_file           </span>│<span style=\"color: #c0c0c0; text-decoration-color: #c0c0c0\"> Read an image or audio file. Returns the base64 encoded data and MIME type. O... </span>│\n",
       "│<span style=\"color: #008080; text-decoration-color: #008080\"> read_multiple_files       </span>│<span style=\"color: #c0c0c0; text-decoration-color: #c0c0c0\"> Read the contents of multiple files simultaneously. This is more efficient th... </span>│\n",
       "│<span style=\"color: #008080; text-decoration-color: #008080\"> write_file                </span>│<span style=\"color: #c0c0c0; text-decoration-color: #c0c0c0\"> Create a new file or completely overwrite an existing file with new content. ... </span>│\n",
       "│<span style=\"color: #008080; text-decoration-color: #008080\"> edit_file                 </span>│<span style=\"color: #c0c0c0; text-decoration-color: #c0c0c0\"> Make line-based edits to a text file. Each edit replaces exact line sequences... </span>│\n",
       "│<span style=\"color: #008080; text-decoration-color: #008080\"> create_directory          </span>│<span style=\"color: #c0c0c0; text-decoration-color: #c0c0c0\"> Create a new directory or ensure a directory exists. Can create multiple nest... </span>│\n",
       "│<span style=\"color: #008080; text-decoration-color: #008080\"> list_directory            </span>│<span style=\"color: #c0c0c0; text-decoration-color: #c0c0c0\"> Get a detailed listing of all files and directories in a specified path. Resu... </span>│\n",
       "│<span style=\"color: #008080; text-decoration-color: #008080\"> list_directory_with_sizes </span>│<span style=\"color: #c0c0c0; text-decoration-color: #c0c0c0\"> Get a detailed listing of all files and directories in a specified path, incl... </span>│\n",
       "│<span style=\"color: #008080; text-decoration-color: #008080\"> directory_tree            </span>│<span style=\"color: #c0c0c0; text-decoration-color: #c0c0c0\"> Get a recursive tree view of files and directories as a JSON structure. Each ... </span>│\n",
       "│<span style=\"color: #008080; text-decoration-color: #008080\"> move_file                 </span>│<span style=\"color: #c0c0c0; text-decoration-color: #c0c0c0\"> Move or rename files and directories. Can move files between directories and ... </span>│\n",
       "│<span style=\"color: #008080; text-decoration-color: #008080\"> search_files              </span>│<span style=\"color: #c0c0c0; text-decoration-color: #c0c0c0\"> Recursively search for files and directories matching a pattern. Searches thr... </span>│\n",
       "│<span style=\"color: #008080; text-decoration-color: #008080\"> get_file_info             </span>│<span style=\"color: #c0c0c0; text-decoration-color: #c0c0c0\"> Retrieve detailed metadata about a file or directory. Returns comprehensive i... </span>│\n",
       "│<span style=\"color: #008080; text-decoration-color: #008080\"> list_allowed_directories  </span>│<span style=\"color: #c0c0c0; text-decoration-color: #c0c0c0\"> Returns the list of root directories that this server is allowed to access. U... </span>│\n",
       "└───────────────────────────┴──────────────────────────────────────────────────────────────────────────────────┘\n",
       "</pre>\n"
      ],
      "text/plain": [
       "\u001b[3m                                              Available MCP Tools                                               \u001b[0m\n",
       "┏━━━━━━━━━━━━━━━━━━━━━━━━━━━┳━━━━━━━━━━━━━━━━━━━━━━━━━━━━━━━━━━━━━━━━━━━━━━━━━━━━━━━━━━━━━━━━━━━━━━━━━━━━━━━━━━┓\n",
       "┃\u001b[1;35m \u001b[0m\u001b[1;35mTool Name                \u001b[0m\u001b[1;35m \u001b[0m┃\u001b[1;35m \u001b[0m\u001b[1;35mDescription                                                                     \u001b[0m\u001b[1;35m \u001b[0m┃\n",
       "┡━━━━━━━━━━━━━━━━━━━━━━━━━━━╇━━━━━━━━━━━━━━━━━━━━━━━━━━━━━━━━━━━━━━━━━━━━━━━━━━━━━━━━━━━━━━━━━━━━━━━━━━━━━━━━━━┩\n",
       "│\u001b[36m \u001b[0m\u001b[36mread_file                \u001b[0m\u001b[36m \u001b[0m│\u001b[37m \u001b[0m\u001b[37mRead the complete contents of a file as text. DEPRECATED: Use read_text_file ...\u001b[0m\u001b[37m \u001b[0m│\n",
       "│\u001b[36m \u001b[0m\u001b[36mread_text_file           \u001b[0m\u001b[36m \u001b[0m│\u001b[37m \u001b[0m\u001b[37mRead the complete contents of a file from the file system as text. Handles va...\u001b[0m\u001b[37m \u001b[0m│\n",
       "│\u001b[36m \u001b[0m\u001b[36mread_media_file          \u001b[0m\u001b[36m \u001b[0m│\u001b[37m \u001b[0m\u001b[37mRead an image or audio file. Returns the base64 encoded data and MIME type. O...\u001b[0m\u001b[37m \u001b[0m│\n",
       "│\u001b[36m \u001b[0m\u001b[36mread_multiple_files      \u001b[0m\u001b[36m \u001b[0m│\u001b[37m \u001b[0m\u001b[37mRead the contents of multiple files simultaneously. This is more efficient th...\u001b[0m\u001b[37m \u001b[0m│\n",
       "│\u001b[36m \u001b[0m\u001b[36mwrite_file               \u001b[0m\u001b[36m \u001b[0m│\u001b[37m \u001b[0m\u001b[37mCreate a new file or completely overwrite an existing file with new content. ...\u001b[0m\u001b[37m \u001b[0m│\n",
       "│\u001b[36m \u001b[0m\u001b[36medit_file                \u001b[0m\u001b[36m \u001b[0m│\u001b[37m \u001b[0m\u001b[37mMake line-based edits to a text file. Each edit replaces exact line sequences...\u001b[0m\u001b[37m \u001b[0m│\n",
       "│\u001b[36m \u001b[0m\u001b[36mcreate_directory         \u001b[0m\u001b[36m \u001b[0m│\u001b[37m \u001b[0m\u001b[37mCreate a new directory or ensure a directory exists. Can create multiple nest...\u001b[0m\u001b[37m \u001b[0m│\n",
       "│\u001b[36m \u001b[0m\u001b[36mlist_directory           \u001b[0m\u001b[36m \u001b[0m│\u001b[37m \u001b[0m\u001b[37mGet a detailed listing of all files and directories in a specified path. Resu...\u001b[0m\u001b[37m \u001b[0m│\n",
       "│\u001b[36m \u001b[0m\u001b[36mlist_directory_with_sizes\u001b[0m\u001b[36m \u001b[0m│\u001b[37m \u001b[0m\u001b[37mGet a detailed listing of all files and directories in a specified path, incl...\u001b[0m\u001b[37m \u001b[0m│\n",
       "│\u001b[36m \u001b[0m\u001b[36mdirectory_tree           \u001b[0m\u001b[36m \u001b[0m│\u001b[37m \u001b[0m\u001b[37mGet a recursive tree view of files and directories as a JSON structure. Each ...\u001b[0m\u001b[37m \u001b[0m│\n",
       "│\u001b[36m \u001b[0m\u001b[36mmove_file                \u001b[0m\u001b[36m \u001b[0m│\u001b[37m \u001b[0m\u001b[37mMove or rename files and directories. Can move files between directories and ...\u001b[0m\u001b[37m \u001b[0m│\n",
       "│\u001b[36m \u001b[0m\u001b[36msearch_files             \u001b[0m\u001b[36m \u001b[0m│\u001b[37m \u001b[0m\u001b[37mRecursively search for files and directories matching a pattern. Searches thr...\u001b[0m\u001b[37m \u001b[0m│\n",
       "│\u001b[36m \u001b[0m\u001b[36mget_file_info            \u001b[0m\u001b[36m \u001b[0m│\u001b[37m \u001b[0m\u001b[37mRetrieve detailed metadata about a file or directory. Returns comprehensive i...\u001b[0m\u001b[37m \u001b[0m│\n",
       "│\u001b[36m \u001b[0m\u001b[36mlist_allowed_directories \u001b[0m\u001b[36m \u001b[0m│\u001b[37m \u001b[0m\u001b[37mReturns the list of root directories that this server is allowed to access. U...\u001b[0m\u001b[37m \u001b[0m│\n",
       "└───────────────────────────┴──────────────────────────────────────────────────────────────────────────────────┘\n"
      ]
     },
     "metadata": {},
     "output_type": "display_data"
    },
    {
     "data": {
      "text/html": [
       "<pre style=\"white-space:pre;overflow-x:auto;line-height:normal;font-family:Menlo,'DejaVu Sans Mono',consolas,'Courier New',monospace\"><span style=\"color: #008000; text-decoration-color: #008000; font-weight: bold\">✓ Successfully retrieved </span><span style=\"color: #008000; text-decoration-color: #008000; font-weight: bold\">14</span><span style=\"color: #008000; text-decoration-color: #008000; font-weight: bold\"> tools from MCP server</span>\n",
       "</pre>\n"
      ],
      "text/plain": [
       "\u001b[1;32m✓ Successfully retrieved \u001b[0m\u001b[1;32m14\u001b[0m\u001b[1;32m tools from MCP server\u001b[0m\n"
      ]
     },
     "metadata": {},
     "output_type": "display_data"
    }
   ],
   "source": [
    "# Simple MCP Example\n",
    "import os\n",
    "from langchain_mcp_adapters.client import MultiServerMCPClient\n",
    "from rich.console import Console\n",
    "from rich.panel import Panel\n",
    "from rich.table import Table\n",
    "\n",
    "console = Console()\n",
    "\n",
    "# Get the absolute path to our sample research docs\n",
    "sample_docs_path = os.path.abspath(\"./files/\")\n",
    "console.print(f\"[bold blue]Sample docs path:[/bold blue] {sample_docs_path}\")\n",
    "\n",
    "# Check if the directory exists\n",
    "if os.path.exists(sample_docs_path):\n",
    "    console.print(f\"[green]✓ Directory exists with files:[/green] {os.listdir(sample_docs_path)}\")\n",
    "else:\n",
    "    console.print(\"[red]✗ Directory does not exist![/red]\")\n",
    "\n",
    "# MCP Client configuration - filesystem server for local document access\n",
    "mcp_config = {\n",
    "    \"filesystem\": {\n",
    "        \"command\": \"npx\",\n",
    "        \"args\": [\n",
    "            \"-y\",  # Auto-install if needed\n",
    "            \"@modelcontextprotocol/server-filesystem\",\n",
    "            sample_docs_path\n",
    "        ],\n",
    "        \"transport\": \"stdio\"\n",
    "    }\n",
    "}\n",
    "\n",
    "console.print(Panel(\"[bold yellow]Creating MCP client...[/bold yellow]\", expand=False))\n",
    "client = MultiServerMCPClient(mcp_config)\n",
    "console.print(\"[green]✓ MCP client created successfully![/green]\")\n",
    "\n",
    "# Test getting tools\n",
    "console.print(Panel(\"[bold yellow]Getting tools...[/bold yellow]\", expand=False))\n",
    "tools = await client.get_tools()\n",
    "\n",
    "# Create a rich table for tool display\n",
    "table = Table(title=\"Available MCP Tools\", show_header=True, header_style=\"bold magenta\")\n",
    "table.add_column(\"Tool Name\", style=\"cyan\", width=25)\n",
    "table.add_column(\"Description\", style=\"white\", width=80)\n",
    "\n",
    "for tool in tools:\n",
    "    # Truncate long descriptions for better display\n",
    "    description = tool.description[:77] + \"...\" if len(tool.description) > 80 else tool.description\n",
    "    table.add_row(tool.name, description)\n",
    "\n",
    "console.print(table)\n",
    "console.print(f\"[bold green]✓ Successfully retrieved {len(tools)} tools from MCP server[/bold green]\")"
   ]
  }
 ],
 "metadata": {
  "kernelspec": {
   "display_name": ".venv",
   "language": "python",
   "name": "python3"
  },
  "language_info": {
   "codemirror_mode": {
    "name": "ipython",
    "version": 3
   },
   "file_extension": ".py",
   "mimetype": "text/x-python",
   "name": "python",
   "nbconvert_exporter": "python",
   "pygments_lexer": "ipython3",
   "version": "3.11.1"
  }
 },
 "nbformat": 4,
 "nbformat_minor": 5
}
